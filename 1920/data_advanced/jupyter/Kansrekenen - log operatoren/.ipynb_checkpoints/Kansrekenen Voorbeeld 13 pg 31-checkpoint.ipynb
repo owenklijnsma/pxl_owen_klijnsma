{
 "cells": [
  {
   "cell_type": "code",
   "execution_count": 88,
   "metadata": {},
   "outputs": [],
   "source": [
    "import random\n",
    "from random import randint"
   ]
  },
  {
   "cell_type": "code",
   "execution_count": 89,
   "metadata": {},
   "outputs": [],
   "source": [
    "aantal_studenten = 475\n",
    "aantal_vakken = 3"
   ]
  },
  {
   "cell_type": "code",
   "execution_count": 90,
   "metadata": {},
   "outputs": [],
   "source": [
    "#To do: Creëer een 2 dim list \"data\". Aantal rijen = aantal_studenten / aantal kolommen = aantal_vakken. \n",
    "#Vul deze op met 'ja'"
   ]
  },
  {
   "cell_type": "code",
   "execution_count": 91,
   "metadata": {},
   "outputs": [],
   "source": [
    "data = []\n",
    "for i in range(aantal_studenten):\n",
    "    data.append(['ja'] * aantal_vakken)"
   ]
  },
  {
   "cell_type": "code",
   "execution_count": 92,
   "metadata": {},
   "outputs": [
    {
     "name": "stdout",
     "output_type": "stream",
     "text": [
      "[['ja', 'ja', 'ja'], ['ja', 'ja', 'ja'], ['ja', 'ja', 'ja'], ['ja', 'ja', 'ja'], ['ja', 'ja', 'ja'], ['ja', 'ja', 'ja'], ['ja', 'ja', 'ja'], ['ja', 'ja', 'ja'], ['ja', 'ja', 'ja'], ['ja', 'ja', 'ja'], ['ja', 'ja', 'ja'], ['ja', 'ja', 'ja'], ['ja', 'ja', 'ja'], ['ja', 'ja', 'ja'], ['ja', 'ja', 'ja'], ['ja', 'ja', 'ja'], ['ja', 'ja', 'ja'], ['ja', 'ja', 'ja'], ['ja', 'ja', 'ja'], ['ja', 'ja', 'ja'], ['ja', 'ja', 'ja'], ['ja', 'ja', 'ja'], ['ja', 'ja', 'ja'], ['ja', 'ja', 'ja'], ['ja', 'ja', 'ja'], ['ja', 'ja', 'ja'], ['ja', 'ja', 'ja'], ['ja', 'ja', 'ja'], ['ja', 'ja', 'ja'], ['ja', 'ja', 'ja'], ['ja', 'ja', 'ja'], ['ja', 'ja', 'ja'], ['ja', 'ja', 'ja'], ['ja', 'ja', 'ja'], ['ja', 'ja', 'ja'], ['ja', 'ja', 'ja'], ['ja', 'ja', 'ja'], ['ja', 'ja', 'ja'], ['ja', 'ja', 'ja'], ['ja', 'ja', 'ja'], ['ja', 'ja', 'ja'], ['ja', 'ja', 'ja'], ['ja', 'ja', 'ja'], ['ja', 'ja', 'ja'], ['ja', 'ja', 'ja'], ['ja', 'ja', 'ja'], ['ja', 'ja', 'ja'], ['ja', 'ja', 'ja'], ['ja', 'ja', 'ja'], ['ja', 'ja', 'ja'], ['ja', 'ja', 'ja'], ['ja', 'ja', 'ja'], ['ja', 'ja', 'ja'], ['ja', 'ja', 'ja'], ['ja', 'ja', 'ja'], ['ja', 'ja', 'ja'], ['ja', 'ja', 'ja'], ['ja', 'ja', 'ja'], ['ja', 'ja', 'ja'], ['ja', 'ja', 'ja'], ['ja', 'ja', 'ja'], ['ja', 'ja', 'ja'], ['ja', 'ja', 'ja'], ['ja', 'ja', 'ja'], ['ja', 'ja', 'ja'], ['ja', 'ja', 'ja'], ['ja', 'ja', 'ja'], ['ja', 'ja', 'ja'], ['ja', 'ja', 'ja'], ['ja', 'ja', 'ja'], ['ja', 'ja', 'ja'], ['ja', 'ja', 'ja'], ['ja', 'ja', 'ja'], ['ja', 'ja', 'ja'], ['ja', 'ja', 'ja'], ['ja', 'ja', 'ja'], ['ja', 'ja', 'ja'], ['ja', 'ja', 'ja'], ['ja', 'ja', 'ja'], ['ja', 'ja', 'ja'], ['ja', 'ja', 'ja'], ['ja', 'ja', 'ja'], ['ja', 'ja', 'ja'], ['ja', 'ja', 'ja'], ['ja', 'ja', 'ja'], ['ja', 'ja', 'ja'], ['ja', 'ja', 'ja'], ['ja', 'ja', 'ja'], ['ja', 'ja', 'ja'], ['ja', 'ja', 'ja'], ['ja', 'ja', 'ja'], ['ja', 'ja', 'ja'], ['ja', 'ja', 'ja'], ['ja', 'ja', 'ja'], ['ja', 'ja', 'ja'], ['ja', 'ja', 'ja'], ['ja', 'ja', 'ja'], ['ja', 'ja', 'ja'], ['ja', 'ja', 'ja'], ['ja', 'ja', 'ja'], ['ja', 'ja', 'ja'], ['ja', 'ja', 'ja'], ['ja', 'ja', 'ja'], ['ja', 'ja', 'ja'], ['ja', 'ja', 'ja'], ['ja', 'ja', 'ja'], ['ja', 'ja', 'ja'], ['ja', 'ja', 'ja'], ['ja', 'ja', 'ja'], ['ja', 'ja', 'ja'], ['ja', 'ja', 'ja'], ['ja', 'ja', 'ja'], ['ja', 'ja', 'ja'], ['ja', 'ja', 'ja'], ['ja', 'ja', 'ja'], ['ja', 'ja', 'ja'], ['ja', 'ja', 'ja'], ['ja', 'ja', 'ja'], ['ja', 'ja', 'ja'], ['ja', 'ja', 'ja'], ['ja', 'ja', 'ja'], ['ja', 'ja', 'ja'], ['ja', 'ja', 'ja'], ['ja', 'ja', 'ja'], ['ja', 'ja', 'ja'], ['ja', 'ja', 'ja'], ['ja', 'ja', 'ja'], ['ja', 'ja', 'ja'], ['ja', 'ja', 'ja'], ['ja', 'ja', 'ja'], ['ja', 'ja', 'ja'], ['ja', 'ja', 'ja'], ['ja', 'ja', 'ja'], ['ja', 'ja', 'ja'], ['ja', 'ja', 'ja'], ['ja', 'ja', 'ja'], ['ja', 'ja', 'ja'], ['ja', 'ja', 'ja'], ['ja', 'ja', 'ja'], ['ja', 'ja', 'ja'], ['ja', 'ja', 'ja'], ['ja', 'ja', 'ja'], ['ja', 'ja', 'ja'], ['ja', 'ja', 'ja'], ['ja', 'ja', 'ja'], ['ja', 'ja', 'ja'], ['ja', 'ja', 'ja'], ['ja', 'ja', 'ja'], ['ja', 'ja', 'ja'], ['ja', 'ja', 'ja'], ['ja', 'ja', 'ja'], ['ja', 'ja', 'ja'], ['ja', 'ja', 'ja'], ['ja', 'ja', 'ja'], ['ja', 'ja', 'ja'], ['ja', 'ja', 'ja'], ['ja', 'ja', 'ja'], ['ja', 'ja', 'ja'], ['ja', 'ja', 'ja'], ['ja', 'ja', 'ja'], ['ja', 'ja', 'ja'], ['ja', 'ja', 'ja'], ['ja', 'ja', 'ja'], ['ja', 'ja', 'ja'], ['ja', 'ja', 'ja'], ['ja', 'ja', 'ja'], ['ja', 'ja', 'ja'], ['ja', 'ja', 'ja'], ['ja', 'ja', 'ja'], ['ja', 'ja', 'ja'], ['ja', 'ja', 'ja'], ['ja', 'ja', 'ja'], ['ja', 'ja', 'ja'], ['ja', 'ja', 'ja'], ['ja', 'ja', 'ja'], ['ja', 'ja', 'ja'], ['ja', 'ja', 'ja'], ['ja', 'ja', 'ja'], ['ja', 'ja', 'ja'], ['ja', 'ja', 'ja'], ['ja', 'ja', 'ja'], ['ja', 'ja', 'ja'], ['ja', 'ja', 'ja'], ['ja', 'ja', 'ja'], ['ja', 'ja', 'ja'], ['ja', 'ja', 'ja'], ['ja', 'ja', 'ja'], ['ja', 'ja', 'ja'], ['ja', 'ja', 'ja'], ['ja', 'ja', 'ja'], ['ja', 'ja', 'ja'], ['ja', 'ja', 'ja'], ['ja', 'ja', 'ja'], ['ja', 'ja', 'ja'], ['ja', 'ja', 'ja'], ['ja', 'ja', 'ja'], ['ja', 'ja', 'ja'], ['ja', 'ja', 'ja'], ['ja', 'ja', 'ja'], ['ja', 'ja', 'ja'], ['ja', 'ja', 'ja'], ['ja', 'ja', 'ja'], ['ja', 'ja', 'ja'], ['ja', 'ja', 'ja'], ['ja', 'ja', 'ja'], ['ja', 'ja', 'ja'], ['ja', 'ja', 'ja'], ['ja', 'ja', 'ja'], ['ja', 'ja', 'ja'], ['ja', 'ja', 'ja'], ['ja', 'ja', 'ja'], ['ja', 'ja', 'ja'], ['ja', 'ja', 'ja'], ['ja', 'ja', 'ja'], ['ja', 'ja', 'ja'], ['ja', 'ja', 'ja'], ['ja', 'ja', 'ja'], ['ja', 'ja', 'ja'], ['ja', 'ja', 'ja'], ['ja', 'ja', 'ja'], ['ja', 'ja', 'ja'], ['ja', 'ja', 'ja'], ['ja', 'ja', 'ja'], ['ja', 'ja', 'ja'], ['ja', 'ja', 'ja'], ['ja', 'ja', 'ja'], ['ja', 'ja', 'ja'], ['ja', 'ja', 'ja'], ['ja', 'ja', 'ja'], ['ja', 'ja', 'ja'], ['ja', 'ja', 'ja'], ['ja', 'ja', 'ja'], ['ja', 'ja', 'ja'], ['ja', 'ja', 'ja'], ['ja', 'ja', 'ja'], ['ja', 'ja', 'ja'], ['ja', 'ja', 'ja'], ['ja', 'ja', 'ja'], ['ja', 'ja', 'ja'], ['ja', 'ja', 'ja'], ['ja', 'ja', 'ja'], ['ja', 'ja', 'ja'], ['ja', 'ja', 'ja'], ['ja', 'ja', 'ja'], ['ja', 'ja', 'ja'], ['ja', 'ja', 'ja'], ['ja', 'ja', 'ja'], ['ja', 'ja', 'ja'], ['ja', 'ja', 'ja'], ['ja', 'ja', 'ja'], ['ja', 'ja', 'ja'], ['ja', 'ja', 'ja'], ['ja', 'ja', 'ja'], ['ja', 'ja', 'ja'], ['ja', 'ja', 'ja'], ['ja', 'ja', 'ja'], ['ja', 'ja', 'ja'], ['ja', 'ja', 'ja'], ['ja', 'ja', 'ja'], ['ja', 'ja', 'ja'], ['ja', 'ja', 'ja'], ['ja', 'ja', 'ja'], ['ja', 'ja', 'ja'], ['ja', 'ja', 'ja'], ['ja', 'ja', 'ja'], ['ja', 'ja', 'ja'], ['ja', 'ja', 'ja'], ['ja', 'ja', 'ja'], ['ja', 'ja', 'ja'], ['ja', 'ja', 'ja'], ['ja', 'ja', 'ja'], ['ja', 'ja', 'ja'], ['ja', 'ja', 'ja'], ['ja', 'ja', 'ja'], ['ja', 'ja', 'ja'], ['ja', 'ja', 'ja'], ['ja', 'ja', 'ja'], ['ja', 'ja', 'ja'], ['ja', 'ja', 'ja'], ['ja', 'ja', 'ja'], ['ja', 'ja', 'ja'], ['ja', 'ja', 'ja'], ['ja', 'ja', 'ja'], ['ja', 'ja', 'ja'], ['ja', 'ja', 'ja'], ['ja', 'ja', 'ja'], ['ja', 'ja', 'ja'], ['ja', 'ja', 'ja'], ['ja', 'ja', 'ja'], ['ja', 'ja', 'ja'], ['ja', 'ja', 'ja'], ['ja', 'ja', 'ja'], ['ja', 'ja', 'ja'], ['ja', 'ja', 'ja'], ['ja', 'ja', 'ja'], ['ja', 'ja', 'ja'], ['ja', 'ja', 'ja'], ['ja', 'ja', 'ja'], ['ja', 'ja', 'ja'], ['ja', 'ja', 'ja'], ['ja', 'ja', 'ja'], ['ja', 'ja', 'ja'], ['ja', 'ja', 'ja'], ['ja', 'ja', 'ja'], ['ja', 'ja', 'ja'], ['ja', 'ja', 'ja'], ['ja', 'ja', 'ja'], ['ja', 'ja', 'ja'], ['ja', 'ja', 'ja'], ['ja', 'ja', 'ja'], ['ja', 'ja', 'ja'], ['ja', 'ja', 'ja'], ['ja', 'ja', 'ja'], ['ja', 'ja', 'ja'], ['ja', 'ja', 'ja'], ['ja', 'ja', 'ja'], ['ja', 'ja', 'ja'], ['ja', 'ja', 'ja'], ['ja', 'ja', 'ja'], ['ja', 'ja', 'ja'], ['ja', 'ja', 'ja'], ['ja', 'ja', 'ja'], ['ja', 'ja', 'ja'], ['ja', 'ja', 'ja'], ['ja', 'ja', 'ja'], ['ja', 'ja', 'ja'], ['ja', 'ja', 'ja'], ['ja', 'ja', 'ja'], ['ja', 'ja', 'ja'], ['ja', 'ja', 'ja'], ['ja', 'ja', 'ja'], ['ja', 'ja', 'ja'], ['ja', 'ja', 'ja'], ['ja', 'ja', 'ja'], ['ja', 'ja', 'ja'], ['ja', 'ja', 'ja'], ['ja', 'ja', 'ja'], ['ja', 'ja', 'ja'], ['ja', 'ja', 'ja'], ['ja', 'ja', 'ja'], ['ja', 'ja', 'ja'], ['ja', 'ja', 'ja'], ['ja', 'ja', 'ja'], ['ja', 'ja', 'ja'], ['ja', 'ja', 'ja'], ['ja', 'ja', 'ja'], ['ja', 'ja', 'ja'], ['ja', 'ja', 'ja'], ['ja', 'ja', 'ja'], ['ja', 'ja', 'ja'], ['ja', 'ja', 'ja'], ['ja', 'ja', 'ja'], ['ja', 'ja', 'ja'], ['ja', 'ja', 'ja'], ['ja', 'ja', 'ja'], ['ja', 'ja', 'ja'], ['ja', 'ja', 'ja'], ['ja', 'ja', 'ja'], ['ja', 'ja', 'ja'], ['ja', 'ja', 'ja'], ['ja', 'ja', 'ja'], ['ja', 'ja', 'ja'], ['ja', 'ja', 'ja'], ['ja', 'ja', 'ja'], ['ja', 'ja', 'ja'], ['ja', 'ja', 'ja'], ['ja', 'ja', 'ja'], ['ja', 'ja', 'ja'], ['ja', 'ja', 'ja'], ['ja', 'ja', 'ja'], ['ja', 'ja', 'ja'], ['ja', 'ja', 'ja'], ['ja', 'ja', 'ja'], ['ja', 'ja', 'ja'], ['ja', 'ja', 'ja'], ['ja', 'ja', 'ja'], ['ja', 'ja', 'ja'], ['ja', 'ja', 'ja'], ['ja', 'ja', 'ja'], ['ja', 'ja', 'ja'], ['ja', 'ja', 'ja'], ['ja', 'ja', 'ja'], ['ja', 'ja', 'ja'], ['ja', 'ja', 'ja'], ['ja', 'ja', 'ja'], ['ja', 'ja', 'ja'], ['ja', 'ja', 'ja'], ['ja', 'ja', 'ja'], ['ja', 'ja', 'ja'], ['ja', 'ja', 'ja'], ['ja', 'ja', 'ja'], ['ja', 'ja', 'ja'], ['ja', 'ja', 'ja'], ['ja', 'ja', 'ja'], ['ja', 'ja', 'ja'], ['ja', 'ja', 'ja'], ['ja', 'ja', 'ja'], ['ja', 'ja', 'ja'], ['ja', 'ja', 'ja'], ['ja', 'ja', 'ja'], ['ja', 'ja', 'ja'], ['ja', 'ja', 'ja'], ['ja', 'ja', 'ja'], ['ja', 'ja', 'ja'], ['ja', 'ja', 'ja'], ['ja', 'ja', 'ja'], ['ja', 'ja', 'ja'], ['ja', 'ja', 'ja'], ['ja', 'ja', 'ja'], ['ja', 'ja', 'ja'], ['ja', 'ja', 'ja'], ['ja', 'ja', 'ja'], ['ja', 'ja', 'ja'], ['ja', 'ja', 'ja'], ['ja', 'ja', 'ja'], ['ja', 'ja', 'ja'], ['ja', 'ja', 'ja'], ['ja', 'ja', 'ja'], ['ja', 'ja', 'ja'], ['ja', 'ja', 'ja'], ['ja', 'ja', 'ja'], ['ja', 'ja', 'ja'], ['ja', 'ja', 'ja'], ['ja', 'ja', 'ja'], ['ja', 'ja', 'ja'], ['ja', 'ja', 'ja'], ['ja', 'ja', 'ja'], ['ja', 'ja', 'ja'], ['ja', 'ja', 'ja'], ['ja', 'ja', 'ja'], ['ja', 'ja', 'ja'], ['ja', 'ja', 'ja'], ['ja', 'ja', 'ja'], ['ja', 'ja', 'ja'], ['ja', 'ja', 'ja'], ['ja', 'ja', 'ja'], ['ja', 'ja', 'ja'], ['ja', 'ja', 'ja'], ['ja', 'ja', 'ja'], ['ja', 'ja', 'ja'], ['ja', 'ja', 'ja'], ['ja', 'ja', 'ja'], ['ja', 'ja', 'ja'], ['ja', 'ja', 'ja'], ['ja', 'ja', 'ja'], ['ja', 'ja', 'ja'], ['ja', 'ja', 'ja'], ['ja', 'ja', 'ja'], ['ja', 'ja', 'ja'], ['ja', 'ja', 'ja'], ['ja', 'ja', 'ja'], ['ja', 'ja', 'ja'], ['ja', 'ja', 'ja'], ['ja', 'ja', 'ja'], ['ja', 'ja', 'ja'], ['ja', 'ja', 'ja'], ['ja', 'ja', 'ja'], ['ja', 'ja', 'ja'], ['ja', 'ja', 'ja'], ['ja', 'ja', 'ja'], ['ja', 'ja', 'ja'], ['ja', 'ja', 'ja'], ['ja', 'ja', 'ja'], ['ja', 'ja', 'ja'], ['ja', 'ja', 'ja'], ['ja', 'ja', 'ja'], ['ja', 'ja', 'ja'], ['ja', 'ja', 'ja'], ['ja', 'ja', 'ja'], ['ja', 'ja', 'ja'], ['ja', 'ja', 'ja'], ['ja', 'ja', 'ja'], ['ja', 'ja', 'ja'], ['ja', 'ja', 'ja'], ['ja', 'ja', 'ja']]\n"
     ]
    }
   ],
   "source": [
    "print(data)"
   ]
  },
  {
   "cell_type": "code",
   "execution_count": 93,
   "metadata": {},
   "outputs": [],
   "source": [
    "#To do: zorg nu voor een juiste invulling van 'ja - 'neen' zoals voorzien in voorbeeld 13 pg 31\n",
    "#Kolom1 = Python volgen\n",
    "#Kolom2 = SQL volgen\n",
    "#Kolom3 = Data Adv volgen"
   ]
  },
  {
   "cell_type": "code",
   "execution_count": 94,
   "metadata": {},
   "outputs": [
    {
     "name": "stdout",
     "output_type": "stream",
     "text": [
      "[['ja', 'ja', 'ja'], ['ja', 'ja', 'ja'], ['ja', 'ja', 'ja'], ['ja', 'ja', 'ja'], ['ja', 'ja', 'ja'], ['ja', 'ja', 'ja'], ['ja', 'ja', 'ja'], ['ja', 'ja', 'ja'], ['ja', 'ja', 'ja'], ['ja', 'ja', 'ja'], ['ja', 'ja', 'ja'], ['ja', 'ja', 'ja'], ['ja', 'ja', 'ja'], ['ja', 'ja', 'ja'], ['ja', 'ja', 'ja'], ['ja', 'ja', 'ja'], ['ja', 'ja', 'ja'], ['ja', 'ja', 'ja'], ['ja', 'ja', 'ja'], ['ja', 'ja', 'ja'], ['ja', 'ja', 'ja'], ['ja', 'ja', 'ja'], ['ja', 'ja', 'ja'], ['ja', 'ja', 'ja'], ['ja', 'ja', 'ja'], ['nee', 'ja', 'ja'], ['nee', 'ja', 'ja'], ['nee', 'ja', 'ja'], ['nee', 'ja', 'ja'], ['nee', 'ja', 'ja'], ['nee', 'ja', 'ja'], ['nee', 'ja', 'ja'], ['nee', 'ja', 'ja'], ['nee', 'ja', 'ja'], ['nee', 'ja', 'ja'], ['nee', 'ja', 'ja'], ['nee', 'ja', 'ja'], ['nee', 'ja', 'ja'], ['nee', 'ja', 'ja'], ['nee', 'ja', 'ja'], ['nee', 'ja', 'ja'], ['nee', 'ja', 'ja'], ['nee', 'ja', 'ja'], ['nee', 'ja', 'ja'], ['nee', 'ja', 'ja'], ['nee', 'ja', 'ja'], ['nee', 'ja', 'ja'], ['nee', 'ja', 'ja'], ['nee', 'ja', 'ja'], ['nee', 'ja', 'ja'], ['nee', 'ja', 'ja'], ['nee', 'ja', 'ja'], ['nee', 'ja', 'ja'], ['nee', 'ja', 'ja'], ['nee', 'ja', 'ja'], ['nee', 'ja', 'ja'], ['nee', 'ja', 'ja'], ['nee', 'ja', 'ja'], ['nee', 'ja', 'ja'], ['nee', 'ja', 'ja'], ['ja', 'ja', 'nee'], ['ja', 'ja', 'nee'], ['ja', 'ja', 'nee'], ['ja', 'ja', 'nee'], ['ja', 'ja', 'nee'], ['ja', 'ja', 'nee'], ['ja', 'ja', 'nee'], ['ja', 'ja', 'nee'], ['ja', 'ja', 'nee'], ['ja', 'ja', 'nee'], ['ja', 'ja', 'nee'], ['ja', 'ja', 'nee'], ['ja', 'ja', 'nee'], ['ja', 'ja', 'nee'], ['ja', 'ja', 'nee'], ['ja', 'ja', 'nee'], ['ja', 'ja', 'nee'], ['ja', 'ja', 'nee'], ['ja', 'ja', 'nee'], ['ja', 'ja', 'nee'], ['ja', 'ja', 'nee'], ['ja', 'ja', 'nee'], ['ja', 'ja', 'nee'], ['ja', 'ja', 'nee'], ['ja', 'ja', 'nee'], ['ja', 'ja', 'nee'], ['ja', 'ja', 'nee'], ['ja', 'ja', 'nee'], ['ja', 'ja', 'nee'], ['ja', 'ja', 'nee'], ['ja', 'ja', 'nee'], ['ja', 'ja', 'nee'], ['ja', 'ja', 'nee'], ['ja', 'ja', 'nee'], ['ja', 'ja', 'nee'], ['ja', 'ja', 'nee'], ['ja', 'ja', 'nee'], ['ja', 'ja', 'nee'], ['ja', 'ja', 'nee'], ['ja', 'ja', 'nee'], ['ja', 'ja', 'nee'], ['ja', 'ja', 'nee'], ['ja', 'ja', 'nee'], ['ja', 'ja', 'nee'], ['ja', 'ja', 'nee'], ['ja', 'ja', 'nee'], ['ja', 'ja', 'nee'], ['ja', 'ja', 'nee'], ['ja', 'ja', 'nee'], ['ja', 'ja', 'nee'], ['ja', 'ja', 'nee'], ['ja', 'ja', 'nee'], ['ja', 'ja', 'nee'], ['ja', 'ja', 'nee'], ['ja', 'ja', 'nee'], ['ja', 'nee', 'ja'], ['ja', 'nee', 'ja'], ['ja', 'nee', 'ja'], ['ja', 'nee', 'ja'], ['ja', 'nee', 'ja'], ['ja', 'nee', 'ja'], ['ja', 'nee', 'ja'], ['ja', 'nee', 'ja'], ['ja', 'nee', 'ja'], ['ja', 'nee', 'ja'], ['ja', 'nee', 'ja'], ['ja', 'nee', 'ja'], ['ja', 'nee', 'ja'], ['ja', 'nee', 'ja'], ['ja', 'nee', 'ja'], ['ja', 'nee', 'ja'], ['ja', 'nee', 'ja'], ['ja', 'nee', 'ja'], ['ja', 'nee', 'ja'], ['ja', 'nee', 'ja'], ['ja', 'nee', 'ja'], ['ja', 'nee', 'ja'], ['ja', 'nee', 'ja'], ['ja', 'nee', 'ja'], ['ja', 'nee', 'ja'], ['ja', 'nee', 'ja'], ['ja', 'nee', 'ja'], ['ja', 'nee', 'ja'], ['ja', 'nee', 'ja'], ['ja', 'nee', 'ja'], ['ja', 'nee', 'ja'], ['ja', 'nee', 'ja'], ['ja', 'nee', 'ja'], ['ja', 'nee', 'ja'], ['ja', 'nee', 'ja'], ['ja', 'nee', 'ja'], ['ja', 'nee', 'ja'], ['ja', 'nee', 'ja'], ['ja', 'nee', 'ja'], ['ja', 'nee', 'ja'], ['ja', 'nee', 'ja'], ['ja', 'nee', 'ja'], ['ja', 'nee', 'ja'], ['ja', 'nee', 'ja'], ['ja', 'nee', 'ja'], ['ja', 'nee', 'ja'], ['ja', 'nee', 'ja'], ['ja', 'nee', 'ja'], ['ja', 'nee', 'ja'], ['ja', 'nee', 'ja'], ['ja', 'nee', 'ja'], ['ja', 'nee', 'ja'], ['ja', 'nee', 'ja'], ['ja', 'nee', 'ja'], ['ja', 'nee', 'ja'], ['ja', 'nee', 'ja'], ['ja', 'nee', 'ja'], ['ja', 'nee', 'ja'], ['ja', 'nee', 'ja'], ['ja', 'nee', 'ja'], ['ja', 'nee', 'ja'], ['ja', 'nee', 'ja'], ['ja', 'nee', 'ja'], ['ja', 'nee', 'ja'], ['ja', 'nee', 'ja'], ['ja', 'nee', 'ja'], ['ja', 'nee', 'ja'], ['ja', 'nee', 'ja'], ['ja', 'nee', 'ja'], ['ja', 'nee', 'ja'], ['ja', 'nee', 'ja'], ['ja', 'nee', 'ja'], ['ja', 'nee', 'ja'], ['ja', 'nee', 'ja'], ['ja', 'nee', 'ja'], ['ja', 'nee', 'ja'], ['ja', 'nee', 'ja'], ['ja', 'nee', 'ja'], ['ja', 'nee', 'ja'], ['ja', 'nee', 'ja'], ['ja', 'nee', 'ja'], ['ja', 'nee', 'ja'], ['ja', 'nee', 'ja'], ['ja', 'nee', 'ja'], ['ja', 'nee', 'ja'], ['ja', 'nee', 'ja'], ['ja', 'nee', 'ja'], ['ja', 'nee', 'ja'], ['ja', 'nee', 'ja'], ['ja', 'nee', 'ja'], ['ja', 'nee', 'ja'], ['ja', 'nee', 'ja'], ['ja', 'nee', 'ja'], ['ja', 'nee', 'ja'], ['ja', 'nee', 'ja'], ['ja', 'nee', 'ja'], ['ja', 'nee', 'ja'], ['ja', 'nee', 'ja'], ['ja', 'nee', 'ja'], ['ja', 'nee', 'ja'], ['ja', 'nee', 'ja'], ['ja', 'nee', 'ja'], ['ja', 'nee', 'ja'], ['ja', 'nee', 'ja'], ['ja', 'nee', 'ja'], ['ja', 'nee', 'ja'], ['ja', 'nee', 'ja'], ['ja', 'nee', 'ja'], ['ja', 'nee', 'ja'], ['ja', 'nee', 'ja'], ['ja', 'nee', 'ja'], ['ja', 'nee', 'ja'], ['ja', 'nee', 'ja'], ['ja', 'nee', 'ja'], ['ja', 'nee', 'ja'], ['ja', 'nee', 'ja'], ['ja', 'nee', 'ja'], ['ja', 'nee', 'ja'], ['ja', 'nee', 'ja'], ['ja', 'nee', 'ja'], ['ja', 'nee', 'ja'], ['ja', 'nee', 'ja'], ['ja', 'nee', 'ja'], ['ja', 'nee', 'ja'], ['ja', 'nee', 'ja'], ['ja', 'nee', 'ja'], ['ja', 'nee', 'ja'], ['ja', 'nee', 'ja'], ['ja', 'nee', 'ja'], ['ja', 'nee', 'ja'], ['ja', 'nee', 'ja'], ['ja', 'nee', 'ja'], ['ja', 'nee', 'ja'], ['ja', 'nee', 'ja'], ['ja', 'nee', 'ja'], ['ja', 'nee', 'ja'], ['ja', 'nee', 'ja'], ['ja', 'nee', 'ja'], ['ja', 'nee', 'ja'], ['ja', 'nee', 'ja'], ['ja', 'nee', 'ja'], ['ja', 'nee', 'ja'], ['ja', 'nee', 'ja'], ['ja', 'nee', 'ja'], ['ja', 'nee', 'ja'], ['ja', 'nee', 'ja'], ['ja', 'nee', 'ja'], ['ja', 'nee', 'ja'], ['ja', 'nee', 'ja'], ['ja', 'nee', 'ja'], ['ja', 'nee', 'ja'], ['ja', 'nee', 'ja'], ['ja', 'nee', 'ja'], ['ja', 'nee', 'ja'], ['ja', 'nee', 'ja'], ['ja', 'nee', 'ja'], ['ja', 'nee', 'ja'], ['ja', 'nee', 'ja'], ['ja', 'nee', 'ja'], ['ja', 'nee', 'ja'], ['ja', 'nee', 'ja'], ['ja', 'nee', 'ja'], ['ja', 'nee', 'ja'], ['ja', 'nee', 'ja'], ['ja', 'nee', 'ja'], ['ja', 'nee', 'ja'], ['ja', 'nee', 'ja'], ['ja', 'nee', 'ja'], ['ja', 'nee', 'ja'], ['ja', 'nee', 'ja'], ['ja', 'nee', 'ja'], ['ja', 'nee', 'ja'], ['ja', 'nee', 'ja'], ['ja', 'nee', 'ja'], ['ja', 'nee', 'ja'], ['nee', 'nee', 'ja'], ['nee', 'nee', 'ja'], ['nee', 'nee', 'ja'], ['nee', 'nee', 'ja'], ['nee', 'nee', 'ja'], ['nee', 'nee', 'ja'], ['nee', 'nee', 'ja'], ['nee', 'nee', 'ja'], ['nee', 'nee', 'ja'], ['nee', 'nee', 'ja'], ['nee', 'nee', 'ja'], ['nee', 'nee', 'ja'], ['nee', 'nee', 'ja'], ['nee', 'nee', 'ja'], ['nee', 'nee', 'ja'], ['nee', 'nee', 'ja'], ['nee', 'nee', 'ja'], ['nee', 'nee', 'ja'], ['nee', 'nee', 'ja'], ['nee', 'nee', 'ja'], ['nee', 'nee', 'ja'], ['nee', 'nee', 'ja'], ['nee', 'nee', 'ja'], ['nee', 'nee', 'ja'], ['nee', 'nee', 'ja'], ['nee', 'nee', 'ja'], ['nee', 'nee', 'ja'], ['nee', 'nee', 'ja'], ['nee', 'nee', 'ja'], ['nee', 'nee', 'ja'], ['nee', 'nee', 'ja'], ['nee', 'nee', 'ja'], ['nee', 'nee', 'ja'], ['nee', 'nee', 'ja'], ['nee', 'nee', 'ja'], ['nee', 'nee', 'ja'], ['nee', 'nee', 'ja'], ['nee', 'nee', 'ja'], ['nee', 'nee', 'ja'], ['nee', 'nee', 'ja'], ['nee', 'nee', 'ja'], ['nee', 'nee', 'ja'], ['nee', 'nee', 'ja'], ['nee', 'nee', 'ja'], ['nee', 'nee', 'ja'], ['nee', 'ja', 'nee'], ['nee', 'ja', 'nee'], ['nee', 'ja', 'nee'], ['nee', 'ja', 'nee'], ['nee', 'ja', 'nee'], ['nee', 'ja', 'nee'], ['nee', 'ja', 'nee'], ['nee', 'ja', 'nee'], ['nee', 'ja', 'nee'], ['nee', 'ja', 'nee'], ['nee', 'ja', 'nee'], ['nee', 'ja', 'nee'], ['nee', 'ja', 'nee'], ['nee', 'ja', 'nee'], ['nee', 'ja', 'nee'], ['nee', 'ja', 'nee'], ['nee', 'ja', 'nee'], ['nee', 'ja', 'nee'], ['nee', 'ja', 'nee'], ['nee', 'ja', 'nee'], ['nee', 'ja', 'nee'], ['nee', 'ja', 'nee'], ['nee', 'ja', 'nee'], ['nee', 'ja', 'nee'], ['nee', 'ja', 'nee'], ['nee', 'ja', 'nee'], ['nee', 'ja', 'nee'], ['nee', 'ja', 'nee'], ['nee', 'ja', 'nee'], ['nee', 'ja', 'nee'], ['nee', 'ja', 'nee'], ['nee', 'ja', 'nee'], ['nee', 'ja', 'nee'], ['nee', 'ja', 'nee'], ['nee', 'ja', 'nee'], ['nee', 'ja', 'nee'], ['nee', 'ja', 'nee'], ['nee', 'ja', 'nee'], ['nee', 'ja', 'nee'], ['nee', 'ja', 'nee'], ['nee', 'ja', 'nee'], ['nee', 'ja', 'nee'], ['nee', 'ja', 'nee'], ['nee', 'ja', 'nee'], ['nee', 'ja', 'nee'], ['nee', 'ja', 'nee'], ['nee', 'ja', 'nee'], ['nee', 'ja', 'nee'], ['nee', 'ja', 'nee'], ['nee', 'ja', 'nee'], ['nee', 'ja', 'nee'], ['nee', 'ja', 'nee'], ['nee', 'ja', 'nee'], ['nee', 'ja', 'nee'], ['nee', 'ja', 'nee'], ['nee', 'ja', 'nee'], ['nee', 'ja', 'nee'], ['nee', 'ja', 'nee'], ['nee', 'ja', 'nee'], ['nee', 'ja', 'nee'], ['nee', 'ja', 'nee'], ['nee', 'ja', 'nee'], ['nee', 'ja', 'nee'], ['nee', 'ja', 'nee'], ['nee', 'ja', 'nee'], ['nee', 'ja', 'nee'], ['nee', 'ja', 'nee'], ['nee', 'ja', 'nee'], ['nee', 'ja', 'nee'], ['nee', 'ja', 'nee'], ['nee', 'ja', 'nee'], ['nee', 'ja', 'nee'], ['nee', 'ja', 'nee'], ['nee', 'ja', 'nee'], ['nee', 'ja', 'nee'], ['ja', 'nee', 'nee'], ['ja', 'nee', 'nee'], ['ja', 'nee', 'nee'], ['ja', 'nee', 'nee'], ['ja', 'nee', 'nee'], ['ja', 'nee', 'nee'], ['ja', 'nee', 'nee'], ['ja', 'nee', 'nee'], ['ja', 'nee', 'nee'], ['ja', 'nee', 'nee'], ['ja', 'nee', 'nee'], ['ja', 'nee', 'nee'], ['ja', 'nee', 'nee'], ['ja', 'nee', 'nee'], ['ja', 'nee', 'nee'], ['ja', 'nee', 'nee'], ['ja', 'nee', 'nee'], ['ja', 'nee', 'nee'], ['ja', 'nee', 'nee'], ['ja', 'nee', 'nee'], ['ja', 'nee', 'nee'], ['ja', 'nee', 'nee'], ['ja', 'nee', 'nee'], ['ja', 'nee', 'nee'], ['ja', 'nee', 'nee'], ['ja', 'nee', 'nee'], ['ja', 'nee', 'nee'], ['ja', 'nee', 'nee'], ['ja', 'nee', 'nee'], ['ja', 'nee', 'nee'], ['ja', 'nee', 'nee'], ['ja', 'nee', 'nee'], ['ja', 'nee', 'nee'], ['ja', 'nee', 'nee'], ['ja', 'nee', 'nee'], ['ja', 'nee', 'nee'], ['ja', 'nee', 'nee'], ['ja', 'nee', 'nee'], ['ja', 'nee', 'nee'], ['ja', 'nee', 'nee'], ['ja', 'nee', 'nee'], ['ja', 'nee', 'nee'], ['ja', 'nee', 'nee'], ['ja', 'nee', 'nee'], ['ja', 'nee', 'nee'], ['ja', 'nee', 'nee'], ['ja', 'nee', 'nee'], ['ja', 'nee', 'nee'], ['ja', 'nee', 'nee'], ['ja', 'nee', 'nee'], ['ja', 'nee', 'nee'], ['ja', 'nee', 'nee'], ['ja', 'nee', 'nee'], ['ja', 'nee', 'nee'], ['ja', 'nee', 'nee'], ['ja', 'nee', 'nee'], ['ja', 'nee', 'nee'], ['ja', 'nee', 'nee'], ['ja', 'nee', 'nee'], ['ja', 'nee', 'nee'], ['ja', 'nee', 'nee'], ['ja', 'nee', 'nee'], ['ja', 'nee', 'nee'], ['ja', 'nee', 'nee'], ['ja', 'nee', 'nee']]\n"
     ]
    }
   ],
   "source": [
    "for i in range(aantal_studenten):\n",
    "    if (i) < 25:\n",
    "        data[i][0] = 'ja'\n",
    "        data[i][1] = 'ja'\n",
    "        data[i][2] = 'ja'\n",
    "    elif (i) < 60:\n",
    "        data[i][0] = 'nee'\n",
    "        data[i][1] = 'ja'\n",
    "        data[i][2] = 'ja'\n",
    "    elif (i) < 115:\n",
    "        data[i][0] = 'ja'\n",
    "        data[i][1] = 'ja'\n",
    "        data[i][2] = 'nee'\n",
    "    elif (i) < 290:\n",
    "        data[i][0] = 'ja'\n",
    "        data[i][1] = 'nee'\n",
    "        data[i][2] = 'ja'\n",
    "    elif (i) < 335:\n",
    "        data[i][0] = 'nee'\n",
    "        data[i][1] = 'nee'\n",
    "        data[i][2] = 'ja'\n",
    "    elif (i) < 410:\n",
    "        data[i][0] = 'nee'\n",
    "        data[i][1] = 'ja'\n",
    "        data[i][2] = 'nee'\n",
    "    else:\n",
    "        data[i][0] = 'ja'\n",
    "        data[i][1] = 'nee'\n",
    "        data[i][2] = 'nee'\n",
    "\n",
    "print(data)"
   ]
  },
  {
   "cell_type": "code",
   "execution_count": 95,
   "metadata": {},
   "outputs": [],
   "source": [
    "#To do: Bereken de kans dat een willekeurig gekozen student\n",
    "#1. Python volgt maar geen data adv\n",
    "#2. data adv volgt maar geen SQL\n",
    "#3. Python of data adv volgt, maar geen SQL\n",
    "#4. Python volgt, maar geen SQL en geen data adv"
   ]
  },
  {
   "cell_type": "code",
   "execution_count": 96,
   "metadata": {},
   "outputs": [],
   "source": [
    "#Oplossing 1"
   ]
  },
  {
   "cell_type": "code",
   "execution_count": 97,
   "metadata": {
    "scrolled": true
   },
   "outputs": [
    {
     "name": "stdout",
     "output_type": "stream",
     "text": [
      "Het aantal studenten dat Python volgt, maar geen data adv is  120\n",
      "De kans dat een student Python volgt maar geen data adv is  0.25263157894736843\n"
     ]
    }
   ],
   "source": [
    "aantal = 0\n",
    "\n",
    "for i in range(aantal_studenten):\n",
    "    if data[i][0] == 'ja' and data[i][2] == 'nee':\n",
    "        aantal += 1\n",
    "\n",
    "print(\"Het aantal studenten dat Python volgt, maar geen data adv is \", aantal)\n",
    "print(\"De kans dat een student Python volgt maar geen data adv is \", aantal / aantal_studenten)"
   ]
  },
  {
   "cell_type": "code",
   "execution_count": 98,
   "metadata": {},
   "outputs": [],
   "source": [
    "#Oplossing 2"
   ]
  },
  {
   "cell_type": "code",
   "execution_count": 99,
   "metadata": {},
   "outputs": [
    {
     "name": "stdout",
     "output_type": "stream",
     "text": [
      "Het aantal studenten dat data adv volgt, maar geen SQL is  220\n",
      "De kans dat een student data adv volgt maar geen SQL is  0.4631578947368421\n"
     ]
    }
   ],
   "source": [
    "aantal = 0\n",
    "\n",
    "for i in range(aantal_studenten):\n",
    "    if data[i][1] == 'nee' and data[i][2] == 'ja':\n",
    "        aantal += 1\n",
    "\n",
    "print(\"Het aantal studenten dat data adv volgt, maar geen SQL is \", aantal)\n",
    "print(\"De kans dat een student data adv volgt maar geen SQL is \", aantal / aantal_studenten)"
   ]
  },
  {
   "cell_type": "code",
   "execution_count": 100,
   "metadata": {},
   "outputs": [],
   "source": [
    "#Oplossing 3"
   ]
  },
  {
   "cell_type": "code",
   "execution_count": 101,
   "metadata": {},
   "outputs": [
    {
     "name": "stdout",
     "output_type": "stream",
     "text": [
      "Het aantal studenten die python of data adv volgen maar niet SQL is  285\n",
      "De kans dat een student python of data adv volgt maar geen SQL is  0.6\n"
     ]
    }
   ],
   "source": [
    "aantal = 0\n",
    "\n",
    "for i in range(aantal_studenten):\n",
    "    if (data[i][0] == 'ja' or data[i][2] == 'ja') and data[i][1] == 'nee':\n",
    "        aantal += 1\n",
    "\n",
    "print(\"Het aantal studenten die python of data adv volgen maar niet SQL is \", aantal)\n",
    "print(\"De kans dat een student python of data adv volgt maar geen SQL is \", aantal / aantal_studenten)"
   ]
  },
  {
   "cell_type": "code",
   "execution_count": 102,
   "metadata": {},
   "outputs": [],
   "source": [
    "#Oplossing 4"
   ]
  },
  {
   "cell_type": "code",
   "execution_count": 103,
   "metadata": {},
   "outputs": [
    {
     "name": "stdout",
     "output_type": "stream",
     "text": [
      "Het aantal studenten die python volgt maar geen SQL en geen data adv is  65\n",
      "De kans dat een student python volgt maar geen SQL en geen data adv is  0.1368421052631579\n"
     ]
    }
   ],
   "source": [
    "aantal = 0\n",
    "\n",
    "for i in range(aantal_studenten):\n",
    "    if data[i][0] == 'ja' and (data[i][1] == 'nee' and data[i][2] == 'nee'):\n",
    "        aantal += 1\n",
    "\n",
    "print(\"Het aantal studenten die python volgt maar geen SQL en geen data adv is \", aantal)\n",
    "print(\"De kans dat een student python volgt maar geen SQL en geen data adv is \", aantal / aantal_studenten)"
   ]
  },
  {
   "cell_type": "code",
   "execution_count": 104,
   "metadata": {},
   "outputs": [],
   "source": [
    "#To do: Welke selectie wordt hieronder gemaakt?"
   ]
  },
  {
   "cell_type": "code",
   "execution_count": 105,
   "metadata": {},
   "outputs": [
    {
     "name": "stdout",
     "output_type": "stream",
     "text": [
      "Aantal is  365\n"
     ]
    }
   ],
   "source": [
    "aantal = 0\n",
    "for i in range(aantal_studenten):\n",
    "    if data[i][0] == 'ja' or data[i][2] == 'ja' and not(data[i][1] == 'ja'):\n",
    "        aantal += 1\n",
    "print(\"Aantal is \", aantal)"
   ]
  },
  {
   "cell_type": "code",
   "execution_count": 106,
   "metadata": {},
   "outputs": [],
   "source": [
    "#Antwoord:"
   ]
  },
  {
   "cell_type": "markdown",
   "metadata": {},
   "source": [
    "Het aantal studenten die python of data en niet sql volgen."
   ]
  },
  {
   "cell_type": "code",
   "execution_count": 107,
   "metadata": {},
   "outputs": [],
   "source": [
    "# Extra Opgave"
   ]
  },
  {
   "cell_type": "code",
   "execution_count": 108,
   "metadata": {},
   "outputs": [],
   "source": [
    "#To do: Creëer een 2 dim list \"gegevens\". Aantal rijen = aantal_studenten (475) / aantal kolommen = aantal_vakken (3). \n",
    "#Vul deze op met 0"
   ]
  },
  {
   "cell_type": "code",
   "execution_count": 109,
   "metadata": {},
   "outputs": [],
   "source": [
    "gegevens = []   \n",
    "for i in range(aantal_studenten):\n",
    "    gegevens.append(['0'] * aantal_vakken)\n"
   ]
  },
  {
   "cell_type": "code",
   "execution_count": 110,
   "metadata": {},
   "outputs": [],
   "source": [
    "#TO DO: print(gegevens)"
   ]
  },
  {
   "cell_type": "code",
   "execution_count": 111,
   "metadata": {},
   "outputs": [
    {
     "name": "stdout",
     "output_type": "stream",
     "text": [
      "[['0', '0', '0'], ['0', '0', '0'], ['0', '0', '0'], ['0', '0', '0'], ['0', '0', '0'], ['0', '0', '0'], ['0', '0', '0'], ['0', '0', '0'], ['0', '0', '0'], ['0', '0', '0'], ['0', '0', '0'], ['0', '0', '0'], ['0', '0', '0'], ['0', '0', '0'], ['0', '0', '0'], ['0', '0', '0'], ['0', '0', '0'], ['0', '0', '0'], ['0', '0', '0'], ['0', '0', '0'], ['0', '0', '0'], ['0', '0', '0'], ['0', '0', '0'], ['0', '0', '0'], ['0', '0', '0'], ['0', '0', '0'], ['0', '0', '0'], ['0', '0', '0'], ['0', '0', '0'], ['0', '0', '0'], ['0', '0', '0'], ['0', '0', '0'], ['0', '0', '0'], ['0', '0', '0'], ['0', '0', '0'], ['0', '0', '0'], ['0', '0', '0'], ['0', '0', '0'], ['0', '0', '0'], ['0', '0', '0'], ['0', '0', '0'], ['0', '0', '0'], ['0', '0', '0'], ['0', '0', '0'], ['0', '0', '0'], ['0', '0', '0'], ['0', '0', '0'], ['0', '0', '0'], ['0', '0', '0'], ['0', '0', '0'], ['0', '0', '0'], ['0', '0', '0'], ['0', '0', '0'], ['0', '0', '0'], ['0', '0', '0'], ['0', '0', '0'], ['0', '0', '0'], ['0', '0', '0'], ['0', '0', '0'], ['0', '0', '0'], ['0', '0', '0'], ['0', '0', '0'], ['0', '0', '0'], ['0', '0', '0'], ['0', '0', '0'], ['0', '0', '0'], ['0', '0', '0'], ['0', '0', '0'], ['0', '0', '0'], ['0', '0', '0'], ['0', '0', '0'], ['0', '0', '0'], ['0', '0', '0'], ['0', '0', '0'], ['0', '0', '0'], ['0', '0', '0'], ['0', '0', '0'], ['0', '0', '0'], ['0', '0', '0'], ['0', '0', '0'], ['0', '0', '0'], ['0', '0', '0'], ['0', '0', '0'], ['0', '0', '0'], ['0', '0', '0'], ['0', '0', '0'], ['0', '0', '0'], ['0', '0', '0'], ['0', '0', '0'], ['0', '0', '0'], ['0', '0', '0'], ['0', '0', '0'], ['0', '0', '0'], ['0', '0', '0'], ['0', '0', '0'], ['0', '0', '0'], ['0', '0', '0'], ['0', '0', '0'], ['0', '0', '0'], ['0', '0', '0'], ['0', '0', '0'], ['0', '0', '0'], ['0', '0', '0'], ['0', '0', '0'], ['0', '0', '0'], ['0', '0', '0'], ['0', '0', '0'], ['0', '0', '0'], ['0', '0', '0'], ['0', '0', '0'], ['0', '0', '0'], ['0', '0', '0'], ['0', '0', '0'], ['0', '0', '0'], ['0', '0', '0'], ['0', '0', '0'], ['0', '0', '0'], ['0', '0', '0'], ['0', '0', '0'], ['0', '0', '0'], ['0', '0', '0'], ['0', '0', '0'], ['0', '0', '0'], ['0', '0', '0'], ['0', '0', '0'], ['0', '0', '0'], ['0', '0', '0'], ['0', '0', '0'], ['0', '0', '0'], ['0', '0', '0'], ['0', '0', '0'], ['0', '0', '0'], ['0', '0', '0'], ['0', '0', '0'], ['0', '0', '0'], ['0', '0', '0'], ['0', '0', '0'], ['0', '0', '0'], ['0', '0', '0'], ['0', '0', '0'], ['0', '0', '0'], ['0', '0', '0'], ['0', '0', '0'], ['0', '0', '0'], ['0', '0', '0'], ['0', '0', '0'], ['0', '0', '0'], ['0', '0', '0'], ['0', '0', '0'], ['0', '0', '0'], ['0', '0', '0'], ['0', '0', '0'], ['0', '0', '0'], ['0', '0', '0'], ['0', '0', '0'], ['0', '0', '0'], ['0', '0', '0'], ['0', '0', '0'], ['0', '0', '0'], ['0', '0', '0'], ['0', '0', '0'], ['0', '0', '0'], ['0', '0', '0'], ['0', '0', '0'], ['0', '0', '0'], ['0', '0', '0'], ['0', '0', '0'], ['0', '0', '0'], ['0', '0', '0'], ['0', '0', '0'], ['0', '0', '0'], ['0', '0', '0'], ['0', '0', '0'], ['0', '0', '0'], ['0', '0', '0'], ['0', '0', '0'], ['0', '0', '0'], ['0', '0', '0'], ['0', '0', '0'], ['0', '0', '0'], ['0', '0', '0'], ['0', '0', '0'], ['0', '0', '0'], ['0', '0', '0'], ['0', '0', '0'], ['0', '0', '0'], ['0', '0', '0'], ['0', '0', '0'], ['0', '0', '0'], ['0', '0', '0'], ['0', '0', '0'], ['0', '0', '0'], ['0', '0', '0'], ['0', '0', '0'], ['0', '0', '0'], ['0', '0', '0'], ['0', '0', '0'], ['0', '0', '0'], ['0', '0', '0'], ['0', '0', '0'], ['0', '0', '0'], ['0', '0', '0'], ['0', '0', '0'], ['0', '0', '0'], ['0', '0', '0'], ['0', '0', '0'], ['0', '0', '0'], ['0', '0', '0'], ['0', '0', '0'], ['0', '0', '0'], ['0', '0', '0'], ['0', '0', '0'], ['0', '0', '0'], ['0', '0', '0'], ['0', '0', '0'], ['0', '0', '0'], ['0', '0', '0'], ['0', '0', '0'], ['0', '0', '0'], ['0', '0', '0'], ['0', '0', '0'], ['0', '0', '0'], ['0', '0', '0'], ['0', '0', '0'], ['0', '0', '0'], ['0', '0', '0'], ['0', '0', '0'], ['0', '0', '0'], ['0', '0', '0'], ['0', '0', '0'], ['0', '0', '0'], ['0', '0', '0'], ['0', '0', '0'], ['0', '0', '0'], ['0', '0', '0'], ['0', '0', '0'], ['0', '0', '0'], ['0', '0', '0'], ['0', '0', '0'], ['0', '0', '0'], ['0', '0', '0'], ['0', '0', '0'], ['0', '0', '0'], ['0', '0', '0'], ['0', '0', '0'], ['0', '0', '0'], ['0', '0', '0'], ['0', '0', '0'], ['0', '0', '0'], ['0', '0', '0'], ['0', '0', '0'], ['0', '0', '0'], ['0', '0', '0'], ['0', '0', '0'], ['0', '0', '0'], ['0', '0', '0'], ['0', '0', '0'], ['0', '0', '0'], ['0', '0', '0'], ['0', '0', '0'], ['0', '0', '0'], ['0', '0', '0'], ['0', '0', '0'], ['0', '0', '0'], ['0', '0', '0'], ['0', '0', '0'], ['0', '0', '0'], ['0', '0', '0'], ['0', '0', '0'], ['0', '0', '0'], ['0', '0', '0'], ['0', '0', '0'], ['0', '0', '0'], ['0', '0', '0'], ['0', '0', '0'], ['0', '0', '0'], ['0', '0', '0'], ['0', '0', '0'], ['0', '0', '0'], ['0', '0', '0'], ['0', '0', '0'], ['0', '0', '0'], ['0', '0', '0'], ['0', '0', '0'], ['0', '0', '0'], ['0', '0', '0'], ['0', '0', '0'], ['0', '0', '0'], ['0', '0', '0'], ['0', '0', '0'], ['0', '0', '0'], ['0', '0', '0'], ['0', '0', '0'], ['0', '0', '0'], ['0', '0', '0'], ['0', '0', '0'], ['0', '0', '0'], ['0', '0', '0'], ['0', '0', '0'], ['0', '0', '0'], ['0', '0', '0'], ['0', '0', '0'], ['0', '0', '0'], ['0', '0', '0'], ['0', '0', '0'], ['0', '0', '0'], ['0', '0', '0'], ['0', '0', '0'], ['0', '0', '0'], ['0', '0', '0'], ['0', '0', '0'], ['0', '0', '0'], ['0', '0', '0'], ['0', '0', '0'], ['0', '0', '0'], ['0', '0', '0'], ['0', '0', '0'], ['0', '0', '0'], ['0', '0', '0'], ['0', '0', '0'], ['0', '0', '0'], ['0', '0', '0'], ['0', '0', '0'], ['0', '0', '0'], ['0', '0', '0'], ['0', '0', '0'], ['0', '0', '0'], ['0', '0', '0'], ['0', '0', '0'], ['0', '0', '0'], ['0', '0', '0'], ['0', '0', '0'], ['0', '0', '0'], ['0', '0', '0'], ['0', '0', '0'], ['0', '0', '0'], ['0', '0', '0'], ['0', '0', '0'], ['0', '0', '0'], ['0', '0', '0'], ['0', '0', '0'], ['0', '0', '0'], ['0', '0', '0'], ['0', '0', '0'], ['0', '0', '0'], ['0', '0', '0'], ['0', '0', '0'], ['0', '0', '0'], ['0', '0', '0'], ['0', '0', '0'], ['0', '0', '0'], ['0', '0', '0'], ['0', '0', '0'], ['0', '0', '0'], ['0', '0', '0'], ['0', '0', '0'], ['0', '0', '0'], ['0', '0', '0'], ['0', '0', '0'], ['0', '0', '0'], ['0', '0', '0'], ['0', '0', '0'], ['0', '0', '0'], ['0', '0', '0'], ['0', '0', '0'], ['0', '0', '0'], ['0', '0', '0'], ['0', '0', '0'], ['0', '0', '0'], ['0', '0', '0'], ['0', '0', '0'], ['0', '0', '0'], ['0', '0', '0'], ['0', '0', '0'], ['0', '0', '0'], ['0', '0', '0'], ['0', '0', '0'], ['0', '0', '0'], ['0', '0', '0'], ['0', '0', '0'], ['0', '0', '0'], ['0', '0', '0'], ['0', '0', '0'], ['0', '0', '0'], ['0', '0', '0'], ['0', '0', '0'], ['0', '0', '0'], ['0', '0', '0'], ['0', '0', '0'], ['0', '0', '0'], ['0', '0', '0'], ['0', '0', '0'], ['0', '0', '0'], ['0', '0', '0'], ['0', '0', '0'], ['0', '0', '0'], ['0', '0', '0'], ['0', '0', '0'], ['0', '0', '0'], ['0', '0', '0'], ['0', '0', '0'], ['0', '0', '0'], ['0', '0', '0'], ['0', '0', '0'], ['0', '0', '0'], ['0', '0', '0'], ['0', '0', '0'], ['0', '0', '0'], ['0', '0', '0'], ['0', '0', '0'], ['0', '0', '0'], ['0', '0', '0'], ['0', '0', '0'], ['0', '0', '0'], ['0', '0', '0'], ['0', '0', '0'], ['0', '0', '0'], ['0', '0', '0'], ['0', '0', '0'], ['0', '0', '0'], ['0', '0', '0'], ['0', '0', '0'], ['0', '0', '0'], ['0', '0', '0'], ['0', '0', '0'], ['0', '0', '0'], ['0', '0', '0'], ['0', '0', '0'], ['0', '0', '0'], ['0', '0', '0'], ['0', '0', '0'], ['0', '0', '0'], ['0', '0', '0'], ['0', '0', '0'], ['0', '0', '0'], ['0', '0', '0'], ['0', '0', '0'], ['0', '0', '0'], ['0', '0', '0'], ['0', '0', '0'], ['0', '0', '0'], ['0', '0', '0'], ['0', '0', '0'], ['0', '0', '0'], ['0', '0', '0'], ['0', '0', '0'], ['0', '0', '0'], ['0', '0', '0'], ['0', '0', '0'], ['0', '0', '0'], ['0', '0', '0'], ['0', '0', '0'], ['0', '0', '0'], ['0', '0', '0'], ['0', '0', '0'], ['0', '0', '0'], ['0', '0', '0'], ['0', '0', '0'], ['0', '0', '0'], ['0', '0', '0'], ['0', '0', '0'], ['0', '0', '0'], ['0', '0', '0'], ['0', '0', '0'], ['0', '0', '0'], ['0', '0', '0'], ['0', '0', '0'], ['0', '0', '0'], ['0', '0', '0'], ['0', '0', '0'], ['0', '0', '0'], ['0', '0', '0'], ['0', '0', '0'], ['0', '0', '0'], ['0', '0', '0']]\n"
     ]
    }
   ],
   "source": [
    "print(gegevens)"
   ]
  },
  {
   "cell_type": "code",
   "execution_count": 112,
   "metadata": {},
   "outputs": [],
   "source": [
    "antwoorden = ['ja', 'neen']"
   ]
  },
  {
   "cell_type": "code",
   "execution_count": 113,
   "metadata": {},
   "outputs": [],
   "source": [
    "#To do: Vul de list \"gegevens\" op met 'ja' of 'neen'. Deze opvulling gebeurt random\n",
    "#Kolom1 = Python volgen\n",
    "#Kolom2 = SQL volgen\n",
    "#Kolom3 = Data Adv volgen"
   ]
  },
  {
   "cell_type": "code",
   "execution_count": 114,
   "metadata": {},
   "outputs": [],
   "source": [
    "for i in range(aantal_studenten):\n",
    "    random.choices(antwoorden, weights = [1, 1], k = 3)"
   ]
  },
  {
   "cell_type": "code",
   "execution_count": 115,
   "metadata": {},
   "outputs": [],
   "source": [
    "#TO DO: print(gegevens)"
   ]
  },
  {
   "cell_type": "code",
   "execution_count": 116,
   "metadata": {},
   "outputs": [
    {
     "name": "stdout",
     "output_type": "stream",
     "text": [
      "[[['ja'], ['neen'], ['neen']], [['ja'], ['ja'], ['neen']], [['neen'], ['neen'], ['ja']], [['neen'], ['neen'], ['ja']], [['ja'], ['neen'], ['ja']], [['ja'], ['ja'], ['ja']], [['ja'], ['neen'], ['ja']], [['ja'], ['ja'], ['neen']], [['neen'], ['ja'], ['ja']], [['ja'], ['neen'], ['neen']], [['ja'], ['ja'], ['ja']], [['neen'], ['neen'], ['ja']], [['ja'], ['neen'], ['neen']], [['neen'], ['neen'], ['neen']], [['neen'], ['neen'], ['ja']], [['neen'], ['ja'], ['neen']], [['neen'], ['ja'], ['neen']], [['ja'], ['neen'], ['ja']], [['neen'], ['ja'], ['neen']], [['neen'], ['ja'], ['ja']], [['neen'], ['neen'], ['ja']], [['ja'], ['ja'], ['ja']], [['neen'], ['ja'], ['neen']], [['ja'], ['neen'], ['ja']], [['neen'], ['neen'], ['ja']], [['neen'], ['neen'], ['ja']], [['neen'], ['ja'], ['ja']], [['ja'], ['neen'], ['ja']], [['ja'], ['ja'], ['ja']], [['neen'], ['neen'], ['ja']], [['neen'], ['ja'], ['ja']], [['ja'], ['ja'], ['neen']], [['ja'], ['neen'], ['neen']], [['ja'], ['neen'], ['neen']], [['neen'], ['neen'], ['ja']], [['ja'], ['neen'], ['neen']], [['ja'], ['ja'], ['neen']], [['neen'], ['neen'], ['ja']], [['ja'], ['neen'], ['ja']], [['neen'], ['neen'], ['neen']], [['ja'], ['neen'], ['neen']], [['ja'], ['ja'], ['neen']], [['neen'], ['neen'], ['ja']], [['neen'], ['ja'], ['neen']], [['neen'], ['ja'], ['ja']], [['neen'], ['neen'], ['neen']], [['ja'], ['neen'], ['ja']], [['ja'], ['neen'], ['ja']], [['ja'], ['ja'], ['ja']], [['ja'], ['neen'], ['ja']], [['ja'], ['ja'], ['neen']], [['ja'], ['neen'], ['ja']], [['ja'], ['neen'], ['neen']], [['ja'], ['neen'], ['ja']], [['neen'], ['ja'], ['neen']], [['ja'], ['neen'], ['neen']], [['neen'], ['neen'], ['neen']], [['neen'], ['ja'], ['neen']], [['ja'], ['ja'], ['ja']], [['neen'], ['neen'], ['ja']], [['neen'], ['ja'], ['neen']], [['ja'], ['ja'], ['neen']], [['neen'], ['neen'], ['neen']], [['ja'], ['ja'], ['ja']], [['neen'], ['neen'], ['neen']], [['neen'], ['neen'], ['ja']], [['ja'], ['ja'], ['ja']], [['ja'], ['neen'], ['neen']], [['ja'], ['neen'], ['ja']], [['ja'], ['ja'], ['ja']], [['neen'], ['ja'], ['ja']], [['neen'], ['neen'], ['neen']], [['neen'], ['neen'], ['neen']], [['ja'], ['ja'], ['neen']], [['neen'], ['neen'], ['ja']], [['ja'], ['neen'], ['ja']], [['neen'], ['neen'], ['neen']], [['ja'], ['ja'], ['neen']], [['neen'], ['neen'], ['neen']], [['neen'], ['ja'], ['ja']], [['neen'], ['ja'], ['ja']], [['ja'], ['neen'], ['neen']], [['ja'], ['neen'], ['neen']], [['neen'], ['neen'], ['ja']], [['neen'], ['ja'], ['ja']], [['neen'], ['neen'], ['neen']], [['ja'], ['ja'], ['neen']], [['ja'], ['neen'], ['ja']], [['neen'], ['ja'], ['ja']], [['ja'], ['ja'], ['ja']], [['neen'], ['ja'], ['neen']], [['ja'], ['ja'], ['neen']], [['neen'], ['ja'], ['ja']], [['ja'], ['neen'], ['ja']], [['neen'], ['ja'], ['ja']], [['ja'], ['ja'], ['ja']], [['neen'], ['ja'], ['neen']], [['ja'], ['neen'], ['ja']], [['ja'], ['neen'], ['ja']], [['neen'], ['ja'], ['ja']], [['ja'], ['ja'], ['ja']], [['ja'], ['ja'], ['ja']], [['neen'], ['neen'], ['neen']], [['neen'], ['ja'], ['ja']], [['ja'], ['neen'], ['neen']], [['neen'], ['neen'], ['neen']], [['ja'], ['ja'], ['neen']], [['neen'], ['neen'], ['neen']], [['ja'], ['neen'], ['neen']], [['ja'], ['ja'], ['ja']], [['ja'], ['neen'], ['ja']], [['neen'], ['neen'], ['neen']], [['ja'], ['ja'], ['neen']], [['neen'], ['neen'], ['ja']], [['neen'], ['neen'], ['neen']], [['neen'], ['neen'], ['ja']], [['ja'], ['ja'], ['neen']], [['neen'], ['neen'], ['neen']], [['neen'], ['ja'], ['neen']], [['ja'], ['ja'], ['neen']], [['ja'], ['neen'], ['ja']], [['ja'], ['ja'], ['ja']], [['neen'], ['neen'], ['neen']], [['neen'], ['neen'], ['ja']], [['neen'], ['ja'], ['neen']], [['neen'], ['neen'], ['ja']], [['neen'], ['neen'], ['neen']], [['ja'], ['ja'], ['neen']], [['ja'], ['ja'], ['ja']], [['neen'], ['neen'], ['neen']], [['ja'], ['neen'], ['neen']], [['ja'], ['ja'], ['ja']], [['ja'], ['ja'], ['neen']], [['ja'], ['neen'], ['ja']], [['ja'], ['ja'], ['ja']], [['ja'], ['ja'], ['ja']], [['neen'], ['ja'], ['neen']], [['neen'], ['neen'], ['ja']], [['neen'], ['neen'], ['neen']], [['ja'], ['ja'], ['ja']], [['neen'], ['ja'], ['ja']], [['ja'], ['neen'], ['ja']], [['neen'], ['ja'], ['ja']], [['ja'], ['neen'], ['neen']], [['neen'], ['ja'], ['ja']], [['ja'], ['neen'], ['neen']], [['ja'], ['neen'], ['neen']], [['neen'], ['neen'], ['neen']], [['ja'], ['neen'], ['neen']], [['neen'], ['neen'], ['neen']], [['neen'], ['ja'], ['neen']], [['neen'], ['ja'], ['ja']], [['neen'], ['ja'], ['ja']], [['ja'], ['ja'], ['ja']], [['ja'], ['neen'], ['neen']], [['neen'], ['ja'], ['neen']], [['neen'], ['neen'], ['ja']], [['neen'], ['neen'], ['neen']], [['ja'], ['neen'], ['neen']], [['ja'], ['ja'], ['neen']], [['neen'], ['neen'], ['neen']], [['ja'], ['ja'], ['neen']], [['neen'], ['ja'], ['ja']], [['neen'], ['neen'], ['neen']], [['neen'], ['ja'], ['neen']], [['ja'], ['ja'], ['ja']], [['ja'], ['ja'], ['ja']], [['ja'], ['neen'], ['ja']], [['ja'], ['ja'], ['ja']], [['ja'], ['ja'], ['neen']], [['ja'], ['ja'], ['neen']], [['ja'], ['ja'], ['ja']], [['ja'], ['neen'], ['neen']], [['neen'], ['ja'], ['neen']], [['neen'], ['ja'], ['ja']], [['ja'], ['neen'], ['neen']], [['neen'], ['ja'], ['ja']], [['neen'], ['neen'], ['neen']], [['ja'], ['ja'], ['ja']], [['neen'], ['neen'], ['neen']], [['neen'], ['ja'], ['ja']], [['neen'], ['neen'], ['ja']], [['ja'], ['ja'], ['neen']], [['neen'], ['ja'], ['ja']], [['neen'], ['ja'], ['neen']], [['neen'], ['neen'], ['neen']], [['ja'], ['neen'], ['ja']], [['neen'], ['ja'], ['ja']], [['neen'], ['neen'], ['neen']], [['neen'], ['ja'], ['neen']], [['ja'], ['neen'], ['neen']], [['neen'], ['ja'], ['neen']], [['ja'], ['neen'], ['neen']], [['ja'], ['ja'], ['neen']], [['neen'], ['neen'], ['neen']], [['ja'], ['ja'], ['ja']], [['ja'], ['ja'], ['neen']], [['ja'], ['neen'], ['ja']], [['neen'], ['ja'], ['neen']], [['ja'], ['ja'], ['neen']], [['ja'], ['ja'], ['neen']], [['ja'], ['neen'], ['neen']], [['neen'], ['ja'], ['ja']], [['neen'], ['neen'], ['neen']], [['ja'], ['neen'], ['neen']], [['ja'], ['neen'], ['neen']], [['neen'], ['ja'], ['ja']], [['neen'], ['ja'], ['neen']], [['ja'], ['ja'], ['ja']], [['ja'], ['neen'], ['ja']], [['ja'], ['neen'], ['neen']], [['ja'], ['ja'], ['ja']], [['neen'], ['ja'], ['neen']], [['neen'], ['ja'], ['neen']], [['ja'], ['ja'], ['ja']], [['ja'], ['ja'], ['ja']], [['neen'], ['neen'], ['neen']], [['ja'], ['ja'], ['neen']], [['ja'], ['ja'], ['neen']], [['ja'], ['neen'], ['ja']], [['ja'], ['ja'], ['neen']], [['neen'], ['ja'], ['ja']], [['ja'], ['ja'], ['neen']], [['neen'], ['neen'], ['neen']], [['neen'], ['ja'], ['ja']], [['neen'], ['neen'], ['ja']], [['neen'], ['ja'], ['ja']], [['neen'], ['neen'], ['ja']], [['neen'], ['ja'], ['neen']], [['ja'], ['ja'], ['neen']], [['ja'], ['ja'], ['neen']], [['ja'], ['neen'], ['ja']], [['neen'], ['ja'], ['neen']], [['ja'], ['ja'], ['neen']], [['neen'], ['neen'], ['neen']], [['neen'], ['neen'], ['ja']], [['neen'], ['neen'], ['neen']], [['neen'], ['ja'], ['neen']], [['ja'], ['neen'], ['ja']], [['neen'], ['neen'], ['ja']], [['neen'], ['neen'], ['neen']], [['neen'], ['neen'], ['neen']], [['ja'], ['neen'], ['ja']], [['neen'], ['neen'], ['ja']], [['ja'], ['neen'], ['ja']], [['neen'], ['neen'], ['ja']], [['neen'], ['neen'], ['ja']], [['ja'], ['ja'], ['ja']], [['neen'], ['ja'], ['neen']], [['ja'], ['neen'], ['ja']], [['neen'], ['neen'], ['neen']], [['ja'], ['ja'], ['neen']], [['neen'], ['neen'], ['neen']], [['neen'], ['ja'], ['neen']], [['neen'], ['ja'], ['neen']], [['ja'], ['ja'], ['ja']], [['ja'], ['ja'], ['neen']], [['ja'], ['neen'], ['ja']], [['neen'], ['neen'], ['neen']], [['ja'], ['neen'], ['neen']], [['neen'], ['neen'], ['neen']], [['neen'], ['ja'], ['ja']], [['ja'], ['neen'], ['neen']], [['ja'], ['neen'], ['ja']], [['neen'], ['ja'], ['ja']], [['neen'], ['ja'], ['neen']], [['ja'], ['neen'], ['neen']], [['ja'], ['neen'], ['neen']], [['neen'], ['ja'], ['neen']], [['neen'], ['neen'], ['ja']], [['neen'], ['neen'], ['ja']], [['neen'], ['ja'], ['neen']], [['neen'], ['ja'], ['ja']], [['ja'], ['ja'], ['neen']], [['ja'], ['neen'], ['neen']], [['ja'], ['ja'], ['ja']], [['neen'], ['ja'], ['ja']], [['neen'], ['ja'], ['ja']], [['ja'], ['ja'], ['neen']], [['neen'], ['neen'], ['neen']], [['neen'], ['ja'], ['neen']], [['ja'], ['neen'], ['neen']], [['neen'], ['neen'], ['ja']], [['ja'], ['ja'], ['neen']], [['neen'], ['neen'], ['ja']], [['neen'], ['neen'], ['neen']], [['neen'], ['ja'], ['ja']], [['neen'], ['neen'], ['ja']], [['neen'], ['neen'], ['neen']], [['ja'], ['neen'], ['ja']], [['ja'], ['ja'], ['ja']], [['neen'], ['ja'], ['neen']], [['neen'], ['neen'], ['neen']], [['ja'], ['ja'], ['neen']], [['ja'], ['ja'], ['ja']], [['neen'], ['neen'], ['neen']], [['ja'], ['ja'], ['ja']], [['ja'], ['neen'], ['neen']], [['neen'], ['neen'], ['neen']], [['neen'], ['neen'], ['ja']], [['neen'], ['ja'], ['ja']], [['ja'], ['neen'], ['ja']], [['neen'], ['ja'], ['ja']], [['neen'], ['neen'], ['ja']], [['neen'], ['ja'], ['neen']], [['ja'], ['neen'], ['neen']], [['neen'], ['neen'], ['ja']], [['ja'], ['ja'], ['ja']], [['ja'], ['neen'], ['ja']], [['ja'], ['ja'], ['ja']], [['neen'], ['ja'], ['neen']], [['neen'], ['ja'], ['ja']], [['neen'], ['neen'], ['ja']], [['neen'], ['ja'], ['ja']], [['neen'], ['neen'], ['ja']], [['ja'], ['neen'], ['neen']], [['neen'], ['neen'], ['ja']], [['neen'], ['ja'], ['ja']], [['ja'], ['ja'], ['neen']], [['neen'], ['neen'], ['neen']], [['neen'], ['ja'], ['neen']], [['ja'], ['neen'], ['neen']], [['neen'], ['ja'], ['neen']], [['ja'], ['ja'], ['ja']], [['neen'], ['ja'], ['neen']], [['ja'], ['ja'], ['neen']], [['neen'], ['ja'], ['ja']], [['ja'], ['ja'], ['neen']], [['ja'], ['ja'], ['neen']], [['ja'], ['neen'], ['ja']], [['neen'], ['neen'], ['neen']], [['neen'], ['neen'], ['neen']], [['ja'], ['neen'], ['ja']], [['neen'], ['neen'], ['neen']], [['neen'], ['ja'], ['neen']], [['ja'], ['neen'], ['ja']], [['ja'], ['neen'], ['neen']], [['ja'], ['neen'], ['neen']], [['neen'], ['ja'], ['ja']], [['ja'], ['neen'], ['neen']], [['neen'], ['ja'], ['neen']], [['ja'], ['neen'], ['ja']], [['neen'], ['neen'], ['neen']], [['neen'], ['neen'], ['neen']], [['neen'], ['neen'], ['neen']], [['neen'], ['neen'], ['ja']], [['ja'], ['ja'], ['neen']], [['ja'], ['ja'], ['ja']], [['ja'], ['ja'], ['neen']], [['ja'], ['ja'], ['ja']], [['neen'], ['neen'], ['neen']], [['ja'], ['neen'], ['ja']], [['neen'], ['ja'], ['neen']], [['ja'], ['ja'], ['neen']], [['neen'], ['neen'], ['neen']], [['neen'], ['ja'], ['ja']], [['neen'], ['ja'], ['neen']], [['neen'], ['ja'], ['ja']], [['ja'], ['neen'], ['neen']], [['ja'], ['neen'], ['neen']], [['ja'], ['neen'], ['ja']], [['ja'], ['neen'], ['neen']], [['neen'], ['neen'], ['neen']], [['neen'], ['neen'], ['ja']], [['neen'], ['neen'], ['ja']], [['neen'], ['ja'], ['ja']], [['ja'], ['neen'], ['neen']], [['ja'], ['ja'], ['neen']], [['neen'], ['neen'], ['ja']], [['ja'], ['ja'], ['neen']], [['neen'], ['neen'], ['ja']], [['ja'], ['ja'], ['neen']], [['ja'], ['ja'], ['neen']], [['ja'], ['ja'], ['ja']], [['neen'], ['neen'], ['ja']], [['neen'], ['neen'], ['neen']], [['ja'], ['ja'], ['ja']], [['ja'], ['neen'], ['neen']], [['neen'], ['neen'], ['neen']], [['ja'], ['neen'], ['neen']], [['neen'], ['ja'], ['neen']], [['neen'], ['ja'], ['neen']], [['neen'], ['neen'], ['neen']], [['ja'], ['neen'], ['neen']], [['neen'], ['neen'], ['neen']], [['neen'], ['ja'], ['ja']], [['neen'], ['ja'], ['neen']], [['neen'], ['ja'], ['ja']], [['ja'], ['ja'], ['neen']], [['ja'], ['neen'], ['ja']], [['neen'], ['ja'], ['ja']], [['ja'], ['neen'], ['neen']], [['ja'], ['neen'], ['neen']], [['neen'], ['ja'], ['neen']], [['ja'], ['neen'], ['neen']], [['neen'], ['ja'], ['ja']], [['ja'], ['neen'], ['neen']], [['ja'], ['ja'], ['ja']], [['neen'], ['neen'], ['neen']], [['ja'], ['ja'], ['ja']], [['ja'], ['ja'], ['ja']], [['ja'], ['ja'], ['ja']], [['ja'], ['ja'], ['ja']], [['ja'], ['neen'], ['neen']], [['ja'], ['ja'], ['ja']], [['ja'], ['neen'], ['ja']], [['ja'], ['neen'], ['ja']], [['neen'], ['ja'], ['ja']], [['neen'], ['neen'], ['ja']], [['ja'], ['ja'], ['neen']], [['neen'], ['neen'], ['ja']], [['neen'], ['neen'], ['ja']], [['ja'], ['ja'], ['neen']], [['ja'], ['ja'], ['ja']], [['neen'], ['neen'], ['ja']], [['ja'], ['ja'], ['ja']], [['neen'], ['neen'], ['ja']], [['neen'], ['ja'], ['ja']], [['neen'], ['ja'], ['ja']], [['neen'], ['ja'], ['neen']], [['ja'], ['neen'], ['ja']], [['ja'], ['ja'], ['neen']], [['ja'], ['neen'], ['neen']], [['ja'], ['neen'], ['neen']], [['neen'], ['neen'], ['ja']], [['neen'], ['ja'], ['neen']], [['ja'], ['ja'], ['neen']], [['neen'], ['ja'], ['neen']], [['neen'], ['ja'], ['neen']], [['ja'], ['neen'], ['ja']], [['neen'], ['ja'], ['neen']], [['ja'], ['ja'], ['neen']], [['ja'], ['neen'], ['neen']], [['ja'], ['neen'], ['neen']], [['ja'], ['ja'], ['ja']], [['neen'], ['neen'], ['neen']], [['neen'], ['neen'], ['neen']], [['neen'], ['neen'], ['ja']], [['ja'], ['ja'], ['ja']], [['neen'], ['neen'], ['ja']], [['neen'], ['neen'], ['ja']], [['neen'], ['neen'], ['ja']], [['neen'], ['neen'], ['ja']], [['ja'], ['ja'], ['ja']], [['neen'], ['ja'], ['ja']], [['neen'], ['neen'], ['ja']], [['neen'], ['ja'], ['ja']], [['neen'], ['ja'], ['neen']], [['ja'], ['neen'], ['ja']], [['neen'], ['ja'], ['neen']], [['ja'], ['neen'], ['neen']], [['neen'], ['ja'], ['neen']], [['ja'], ['ja'], ['neen']], [['neen'], ['ja'], ['neen']], [['ja'], ['ja'], ['neen']], [['neen'], ['neen'], ['ja']], [['neen'], ['neen'], ['neen']], [['neen'], ['neen'], ['neen']], [['ja'], ['neen'], ['neen']], [['ja'], ['neen'], ['neen']], [['neen'], ['neen'], ['neen']], [['ja'], ['neen'], ['ja']], [['neen'], ['neen'], ['ja']], [['neen'], ['ja'], ['ja']], [['ja'], ['ja'], ['ja']], [['neen'], ['ja'], ['neen']], [['neen'], ['ja'], ['neen']], [['neen'], ['ja'], ['ja']], [['neen'], ['ja'], ['ja']], [['ja'], ['neen'], ['neen']], [['ja'], ['neen'], ['neen']], [['neen'], ['ja'], ['neen']], [['ja'], ['ja'], ['neen']], [['ja'], ['neen'], ['ja']], [['ja'], ['neen'], ['neen']]]\n"
     ]
    }
   ],
   "source": [
    "print(gegevens)"
   ]
  },
  {
   "cell_type": "code",
   "execution_count": null,
   "metadata": {},
   "outputs": [],
   "source": [
    "#To do: Bepaal uit de list \"gegevens\" het aantal studenten dat Python volgt."
   ]
  },
  {
   "cell_type": "code",
   "execution_count": 76,
   "metadata": {},
   "outputs": [],
   "source": [
    "#Oplossing\n",
    "aantal = 0\n",
    "\n"
   ]
  },
  {
   "cell_type": "code",
   "execution_count": null,
   "metadata": {},
   "outputs": [],
   "source": [
    "print(\"Het aantal studenten dat Python volgt is\", aantal)"
   ]
  },
  {
   "cell_type": "code",
   "execution_count": null,
   "metadata": {},
   "outputs": [],
   "source": []
  },
  {
   "cell_type": "code",
   "execution_count": null,
   "metadata": {},
   "outputs": [],
   "source": [
    "#To do: Bepaal uit de list \"gegevens\" het aantal studenten dat Python volgt maar niet SQL. "
   ]
  },
  {
   "cell_type": "code",
   "execution_count": 78,
   "metadata": {},
   "outputs": [],
   "source": [
    "#Oplossing\n",
    "aantal = 0\n",
    "\n",
    "\n"
   ]
  },
  {
   "cell_type": "code",
   "execution_count": null,
   "metadata": {},
   "outputs": [],
   "source": [
    "print(\"Het aantal studenten dat Python volgt maar niet SQL is\", aantal)"
   ]
  },
  {
   "cell_type": "code",
   "execution_count": null,
   "metadata": {},
   "outputs": [],
   "source": []
  },
  {
   "cell_type": "code",
   "execution_count": null,
   "metadata": {},
   "outputs": [],
   "source": [
    "#To Do: Welke studenten worden hier geselecteerd?"
   ]
  },
  {
   "cell_type": "code",
   "execution_count": 80,
   "metadata": {},
   "outputs": [],
   "source": [
    "aantal = 0\n",
    "for i in range(aantal_studenten):\n",
    "    if not(gegevens[i][0] == 'ja' and gegevens[i][1] == 'ja'):\n",
    "        aantal += 1"
   ]
  },
  {
   "cell_type": "code",
   "execution_count": null,
   "metadata": {},
   "outputs": [],
   "source": [
    "#Antwoord: \n"
   ]
  },
  {
   "cell_type": "code",
   "execution_count": null,
   "metadata": {},
   "outputs": [],
   "source": [
    "#To do: Bepaal uit de list \"gegevens\" het aantal studenten dat Python of data adv volgt maar geen SQL"
   ]
  },
  {
   "cell_type": "code",
   "execution_count": 81,
   "metadata": {},
   "outputs": [],
   "source": [
    "aantal = 0\n",
    "\n"
   ]
  },
  {
   "cell_type": "code",
   "execution_count": null,
   "metadata": {},
   "outputs": [],
   "source": [
    "print(\"Het aantal studenten dat pyhont of data adv volgt maar geen SQL is \", aantal)"
   ]
  },
  {
   "cell_type": "code",
   "execution_count": null,
   "metadata": {},
   "outputs": [],
   "source": []
  },
  {
   "cell_type": "code",
   "execution_count": null,
   "metadata": {},
   "outputs": [],
   "source": [
    "#To do: Welke studenten worden hieronder berekend?"
   ]
  },
  {
   "cell_type": "code",
   "execution_count": null,
   "metadata": {},
   "outputs": [],
   "source": [
    "aantal = 0\n",
    "for i in range(aantal_studenten):\n",
    "    if data[i][0] == 'ja' or data[i][2] == 'ja' and not(data[i][1] == 'ja'):\n",
    "        aantal += 1\n"
   ]
  },
  {
   "cell_type": "code",
   "execution_count": null,
   "metadata": {},
   "outputs": [],
   "source": [
    "#Antwoord: "
   ]
  }
 ],
 "metadata": {
  "kernelspec": {
   "display_name": "Python 3",
   "language": "python",
   "name": "python3"
  },
  "language_info": {
   "codemirror_mode": {
    "name": "ipython",
    "version": 3
   },
   "file_extension": ".py",
   "mimetype": "text/x-python",
   "name": "python",
   "nbconvert_exporter": "python",
   "pygments_lexer": "ipython3",
   "version": "3.7.4"
  }
 },
 "nbformat": 4,
 "nbformat_minor": 2
}
